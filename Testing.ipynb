{
 "cells": [
  {
   "cell_type": "code",
   "execution_count": 1,
   "metadata": {
    "scrolled": true
   },
   "outputs": [],
   "source": [
    "import scale_data\n",
    "#import viz_data\n",
    "#import classify\n",
    "import color\n",
    "import phy_tree"
   ]
  },
  {
   "cell_type": "code",
   "execution_count": 2,
   "metadata": {},
   "outputs": [],
   "source": [
    "def gen_rgb_data():\n",
    "    # Switch the 'scale_color' field in both datasets to the RGB name \n",
    "    info, data = color.use_RBG(scale_data.df_samples, scale_data.df_data, colors=None)\n",
    "    # Add the 'R','G','B' columns\n",
    "    data = color.make_R_G_B_cols(data)\n",
    "    return info, data\n",
    "\n",
    "def gen_validated_by_data():\n",
    "    info, data = color.drop_misclassified_colors(scale_data.df_samples, scale_data.df_data)\n",
    "    data = color.make_R_G_B_cols(data)\n",
    "    return info, data\n",
    "\n",
    "def gen_custom_closest(colors):\n",
    "    info, data = color.use_RBG(scale_data.df_samples, scale_data.df_data, colors=color)\n",
    "    # Add the 'R','G','B' columns\n",
    "    data = color.make_R_G_B_cols(data)\n",
    "    return info, data\n"
   ]
  },
  {
   "cell_type": "code",
   "execution_count": 3,
   "metadata": {
    "scrolled": false
   },
   "outputs": [],
   "source": [
    "i, d = gen_rgb_data()"
   ]
  },
  {
   "cell_type": "code",
   "execution_count": null,
   "metadata": {},
   "outputs": [],
   "source": []
  },
  {
   "cell_type": "code",
   "execution_count": null,
   "metadata": {},
   "outputs": [],
   "source": []
  },
  {
   "cell_type": "code",
   "execution_count": null,
   "metadata": {},
   "outputs": [],
   "source": []
  },
  {
   "cell_type": "code",
   "execution_count": null,
   "metadata": {},
   "outputs": [],
   "source": []
  },
  {
   "cell_type": "code",
   "execution_count": null,
   "metadata": {},
   "outputs": [],
   "source": []
  },
  {
   "cell_type": "code",
   "execution_count": null,
   "metadata": {},
   "outputs": [],
   "source": [
    "\n",
    "    "
   ]
  },
  {
   "cell_type": "code",
   "execution_count": null,
   "metadata": {},
   "outputs": [],
   "source": []
  }
 ],
 "metadata": {
  "kernelspec": {
   "display_name": "Python 3",
   "language": "python",
   "name": "python3"
  },
  "language_info": {
   "codemirror_mode": {
    "name": "ipython",
    "version": 3
   },
   "file_extension": ".py",
   "mimetype": "text/x-python",
   "name": "python",
   "nbconvert_exporter": "python",
   "pygments_lexer": "ipython3",
   "version": "3.7.7"
  }
 },
 "nbformat": 4,
 "nbformat_minor": 4
}